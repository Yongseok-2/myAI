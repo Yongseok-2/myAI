# 음성인식
# 
# 
# https://github.com/openai/whisper


# cli에서 설치

# 1) ffmpeg 설치
#sudo apt update && sudo apt install ffmpeg

# 2) openai-whsiper 설치
#pip install git+https://github.com/openai/whisper.git 



!pip install ffmpeg-python


!pip install git+https://github.com/openai/whisper.git


import whisper

model = whisper.load_model("base")
result = model.transcribe("[경제PICK] 이제는 광고의 시간...올림픽 스타 마케팅  YTN.mp3")
print(result["text"])


result


import whisper

wav_file = 'sol7.wav'

model = whisper.load_model("base")
result = model.transcribe(wav_file)
print(result["text"])


# 번역
!whisper "librodepoemas_04_garcialorca.mp3" --task translate
